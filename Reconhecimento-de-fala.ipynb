{
 "cells": [
  {
   "cell_type": "code",
   "execution_count": 4,
   "metadata": {
    "collapsed": true
   },
   "outputs": [
    {
     "name": "stderr",
     "output_type": "stream",
     "text": [
      "'apt-get' nÆo ‚ reconhecido como um comando interno\n",
      "ou externo, um programa oper vel ou um arquivo em lotes.\n",
      "ERROR: Could not find a version that satisfies the requirement deepspeech-gpu==0.6.1 (from versions: none)\n",
      "ERROR: No matching distribution found for deepspeech-gpu==0.6.1\n",
      "'wget' nÆo ‚ reconhecido como um comando interno\n",
      "ou externo, um programa oper vel ou um arquivo em lotes.\n",
      "tar: Error opening archive: Failed to open 'deepspeech-0.6.1-models.tar.gz'\n"
     ]
    }
   ],
   "source": [
    "#@title\n",
    "import os\n",
    "from os.path import exists, join, basename, splitext\n",
    "\n",
    "if not exists('deepspeech-0.6.1-models'):\n",
    "  !apt-get install -qq sox\n",
    "  !pip install -q deepspeech-gpu==0.6.1 youtube-dl\n",
    "  !wget https://github.com/mozilla/DeepSpeech/releases/download/v0.6.1/deepspeech-0.6.1-models.tar.gz\n",
    "  !tar xvfz deepspeech-0.6.1-models.tar.gz\n",
    "\n",
    "from IPython.display import YouTubeVideo"
   ]
  },
  {
   "cell_type": "code",
   "execution_count": null,
   "outputs": [],
   "source": [
    "YOUTUBE_ID = '2AFpAATHXtc'\n",
    "\n",
    "YouTubeVideo(YOUTUBE_ID)"
   ],
   "metadata": {
    "collapsed": false
   }
  },
  {
   "cell_type": "code",
   "execution_count": null,
   "outputs": [],
   "source": [
    "!rm -rf *.wav\n",
    "!youtube-dl --extract-audio --audio-format wav --output \"test.%(ext)s\" https://www.youtube.com/watch\\?v\\={YOUTUBE_ID}\n",
    "!deepspeech --model deepspeech-0.6.1-models/output_graph.pbmm --lm deepspeech-0.6.1-models/lm.binary --trie deepspeech-0.6.1-models/trie --audio test.wav"
   ],
   "metadata": {
    "collapsed": false
   }
  }
 ],
 "metadata": {
  "kernelspec": {
   "display_name": "Python 3",
   "language": "python",
   "name": "python3"
  },
  "language_info": {
   "codemirror_mode": {
    "name": "ipython",
    "version": 2
   },
   "file_extension": ".py",
   "mimetype": "text/x-python",
   "name": "python",
   "nbconvert_exporter": "python",
   "pygments_lexer": "ipython2",
   "version": "2.7.6"
  }
 },
 "nbformat": 4,
 "nbformat_minor": 0
}
